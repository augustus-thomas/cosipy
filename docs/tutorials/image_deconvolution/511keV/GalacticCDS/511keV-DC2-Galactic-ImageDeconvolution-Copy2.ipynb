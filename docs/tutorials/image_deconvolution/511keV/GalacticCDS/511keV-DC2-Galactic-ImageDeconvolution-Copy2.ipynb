{
 "cells": [
  {
   "cell_type": "markdown",
   "id": "4523ddc6",
   "metadata": {
    "tags": []
   },
   "source": [
    "# DC2 Image Analysis, 511 keV, Image Deconvolution using CDS in the Galactic coordinate system\n",
    "\n",
    "updated on 2024-07-29 (the commit 14fc4c42f8b33749bd2053603643ca693dbc3954)\n",
    "\n",
    "This notebook focuses on the image deconvolution with the Compton data space (CDS) in the Galactic coordinate system.\n",
    "An example of the image analysis will be presented using the 511keV thin disk 3-month simulation data created for DC2.\n",
    "\n",
    "In DC2, we have two options on the coordinate system to describe the Compton scattering direction ($\\chi\\psi$) in the image deconvolution. Please also check the notes written in [511keV-DC2-ScAtt-DataReduction.ipynb](https://github.com/cositools/cosipy/blob/main/docs/tutorials/image_deconvolution/511keV/ScAttBinning/511keV-DC2-ScAtt-DataReduction.ipynb)"
   ]
  },
  {
   "cell_type": "code",
   "execution_count": null,
   "id": "3217eae4",
   "metadata": {},
   "outputs": [],
   "source": [
    "import logging\n",
    "import sys\n",
    "logger = logging.getLogger('cosipy')\n",
    "logger.setLevel(logging.INFO)\n",
    "logger.addHandler(logging.StreamHandler(sys.stdout))"
   ]
  },
  {
   "cell_type": "code",
   "execution_count": null,
   "id": "a6016bb0",
   "metadata": {
    "scrolled": true
   },
   "outputs": [],
   "source": [
    "from histpy import Histogram, HealpixAxis, Axis, Axes\n",
    "from mhealpy import HealpixMap\n",
    "from astropy.coordinates import SkyCoord, cartesian_to_spherical, Galactic\n",
    "\n",
    "from cosipy.response import FullDetectorResponse\n",
    "from cosipy.spacecraftfile import SpacecraftFile\n",
    "from cosipy.ts_map.TSMap import TSMap\n",
    "from cosipy.data_io import UnBinnedData, BinnedData\n",
    "from cosipy.image_deconvolution import SpacecraftAttitudeExposureTable, CoordsysConversionMatrix, DataIF_COSI_DC2, ImageDeconvolution\n",
    "from cosipy.util import fetch_wasabi_file\n",
    "\n",
    "# cosipy uses astropy units\n",
    "import astropy.units as u\n",
    "from astropy.units import Quantity\n",
    "from astropy.coordinates import SkyCoord\n",
    "from astropy.time import Time\n",
    "from astropy.table import Table\n",
    "from astropy.io import fits\n",
    "from scoords import Attitude, SpacecraftFrame\n",
    "\n",
    "#3ML is needed for spectral modeling\n",
    "from threeML import *\n",
    "from astromodels import Band\n",
    "\n",
    "#Other standard libraries\n",
    "import os\n",
    "import numpy as np\n",
    "import matplotlib.pyplot as plt\n",
    "from matplotlib.gridspec import GridSpec \n",
    "\n",
    "import healpy as hp\n",
    "from tqdm.autonotebook import tqdm\n",
    "import cProfile\n",
    "import pstats\n",
    "from pstats import SortKey\n",
    "\n",
    "%matplotlib inline"
   ]
  },
  {
   "cell_type": "markdown",
   "id": "d78f6b1f",
   "metadata": {
    "tags": []
   },
   "source": [
    "# 0. Files needed for this notebook\n",
    "\n",
    "From wasabi\n",
    "- cosi-pipeline-public/COSI-SMEX/DC2/Responses/PointSourceReponse/psr_gal_511_DC2.h5.gz (please gunzip it)\n",
    "    - a pre-computed 511 keV line response file converted into the Galactic coordinate system\n",
    "- cosi-pipeline-public/COSI-SMEX/DC2/Data/Sources/511_thin_disk_3months_unbinned_data.fits.gz\n",
    "- cosi-pipeline-public/COSI-SMEX/DC2/Data/Backgrounds/albedo_photons_3months_unbinned_data.fits.gz\n",
    "    - In this notebook, only the albedo gamma-ray background is considered for a tutorial.\n",
    "    - If you want to consider all of the background components, please replace it with cosi-pipeline-public/COSI-SMEX/DC2/Data/Backgrounds/total_bg_3months_unbinned_data.fits.gz\n",
    "    - Note that total_bg_3months_unbinned_data.fits.gz is 14.15 GB.\n",
    "\n",
    "From docs/tutorials/image_deconvolution/511keV/GalacticCDS\n",
    "- inputs_511keV_DC2.yaml\n",
    "- imagedeconvolution_parfile_gal_511keV.yml"
   ]
  },
  {
   "cell_type": "markdown",
   "id": "35ff55d7",
   "metadata": {},
   "source": [
    "You can download the data and detector response from wasabi. You can skip this cell if you already have downloaded the files."
   ]
  },
  {
   "cell_type": "code",
   "execution_count": null,
   "id": "8efb4252",
   "metadata": {},
   "outputs": [],
   "source": [
    "data_path = \"/project/starkiller/ssd_data/cosi/cosi_dc2/\""
   ]
  },
  {
   "cell_type": "code",
   "execution_count": null,
   "id": "569b2230",
   "metadata": {},
   "outputs": [],
   "source": [
    "# Response file:\n",
    "# wasabi path: COSI-SMEX/DC2/Responses/PointSourceReponse/psr_gal_511_DC2.h5.gz\n",
    "# File size: 3.82 GB\n",
    "fetch_wasabi_file('COSI-SMEX/DC2/Responses/PointSourceReponse/psr_gal_511_DC2.h5.gz', output=data_path+'psr_gal_511_DC2.h5.gz')\n",
    "os.system('gunzip ' + data_path + 'psr_gal_511_DC2.h5.gz')"
   ]
  },
  {
   "cell_type": "code",
   "execution_count": null,
   "id": "c41ae2e3",
   "metadata": {},
   "outputs": [],
   "source": [
    "# Source file (511 keV thin disk model):\n",
    "# wasabi path: COSI-SMEX/DC2/Data/Sources/511_thin_disk_3months_unbinned_data.fits.gz\n",
    "# File size: 202.45 MB\n",
    "fetch_wasabi_file('COSI-SMEX/DC2/Data/Sources/511_thin_disk_3months_unbinned_data.fits.gz', output=data_path+\"511_thin_disk_3months_unbinned_data.fits.gz\")"
   ]
  },
  {
   "cell_type": "code",
   "execution_count": null,
   "id": "c7a8f480",
   "metadata": {},
   "outputs": [],
   "source": [
    "# Background file (albedo gamma):\n",
    "# wasabi path: COSI-SMEX/DC2/Data/Backgrounds/albedo_photons_3months_unbinned_data.fits.gz\n",
    "# File size: 2.69 GB\n",
    "fetch_wasabi_file('COSI-SMEX/DC2/Data/Backgrounds/albedo_photons_3months_unbinned_data.fits.gz', output=data_path)"
   ]
  },
  {
   "cell_type": "markdown",
   "id": "263c3cb7",
   "metadata": {},
   "source": [
    "# 1. Create binned event/background files in the Galactic coordinate system\n",
    "\n",
    "<span style=\"color:red\"> please modify \"path_data\" corresponding to your environment.</span>"
   ]
  },
  {
   "cell_type": "code",
   "execution_count": null,
   "id": "5adcd51b",
   "metadata": {},
   "outputs": [],
   "source": [
    "path_data = \"/project/starkiller/ssd_data/cosi/cosi_dc2/\""
   ]
  },
  {
   "cell_type": "code",
   "execution_count": null,
   "id": "1ffe8527",
   "metadata": {},
   "outputs": [],
   "source": []
  },
  {
   "cell_type": "markdown",
   "id": "4b17a1bc",
   "metadata": {},
   "source": [
    "**Source**"
   ]
  },
  {
   "cell_type": "code",
   "execution_count": null,
   "id": "c9ffcda5",
   "metadata": {},
   "outputs": [],
   "source": [
    "%%time\n",
    "\n",
    "signal_filepath = path_data + \"511_thin_disk_3months_unbinned_data.fits.gz\"\n",
    "\n",
    "binned_signal = BinnedData(input_yaml = \"inputs_511keV_DC2.yaml\")\n",
    "\n",
    "binned_signal.get_binned_data(unbinned_data = signal_filepath, psichi_binning=\"galactic\")"
   ]
  },
  {
   "cell_type": "markdown",
   "id": "880c63e2",
   "metadata": {},
   "source": [
    "**Background**"
   ]
  },
  {
   "cell_type": "code",
   "execution_count": null,
   "id": "d8a2db02",
   "metadata": {},
   "outputs": [],
   "source": [
    "pr = cProfile.Profile()\n",
    "profile_string = \"binned_not_scratched\""
   ]
  },
  {
   "cell_type": "code",
   "execution_count": null,
   "id": "e8c35e24",
   "metadata": {},
   "outputs": [],
   "source": [
    "%%time\n",
    "pr.enable()\n",
    "bkg_filepath = path_data + \"albedo_photons_3months_unbinned_data.fits.gz\"\n",
    "\n",
    "binned_bkg = BinnedData(input_yaml = \"inputs_511keV_DC2.yaml\")\n",
    "\n",
    "binned_bkg.get_binned_data(unbinned_data = bkg_filepath, psichi_binning=\"galactic\")\n",
    "pr.disable()"
   ]
  },
  {
   "cell_type": "code",
   "execution_count": null,
   "id": "7ae2adae",
   "metadata": {
    "scrolled": true
   },
   "outputs": [],
   "source": [
    "from io import StringIO\n",
    "s = StringIO()\n",
    "sortby = SortKey.CUMULATIVE\n",
    "ps = pstats.Stats(pr, stream=s).sort_stats(sortby)\n",
    "ps.print_stats()\n",
    "ps.strip_dirs()\n",
    "ps.print_callees()\n",
    "print(s.getvalue())\n",
    "with open(\"/home/research/thomas.a/cosipy/tests/profiling/\" + profile_string + \"2.txt\", \"w\") as f:\n",
    "    print(s.getvalue())"
   ]
  },
  {
   "cell_type": "markdown",
   "id": "0169018b",
   "metadata": {},
   "source": [
    "Convert the data into sparse matrices & add the signal to the background"
   ]
  },
  {
   "cell_type": "code",
   "execution_count": null,
   "id": "0c26a925",
   "metadata": {},
   "outputs": [],
   "source": [
    "%%time\n",
    "signal = binned_signal.binned_data.to_dense()\n",
    "bkg = binned_bkg.binned_data.to_dense()\n",
    "event = signal + bkg"
   ]
  },
  {
   "cell_type": "markdown",
   "id": "7c66fe57",
   "metadata": {},
   "source": [
    "Save the binned histograms"
   ]
  },
  {
   "cell_type": "code",
   "execution_count": null,
   "id": "212dfdc6",
   "metadata": {},
   "outputs": [],
   "source": [
    "%%time\n",
    "\n",
    "signal.write(\"511keV_dc2_galactic_signal.hdf5\", overwrite = True)\n",
    "bkg.write(\"511keV_dc2_galactic_bkg.hdf5\", overwrite = True)\n",
    "event.write(\"511keV_dc2_galactic_event.hdf5\", overwrite = True)"
   ]
  },
  {
   "cell_type": "markdown",
   "id": "e671042b",
   "metadata": {},
   "source": [
    "Load the saved files"
   ]
  },
  {
   "cell_type": "code",
   "execution_count": null,
   "id": "107702e1",
   "metadata": {},
   "outputs": [],
   "source": [
    "%%time\n",
    "signal = Histogram.open(\"511keV_dc2_galactic_signal.hdf5\")\n",
    "bkg = Histogram.open(\"511keV_dc2_galactic_bkg.hdf5\")\n",
    "event = Histogram.open(\"511keV_dc2_galactic_event.hdf5\")"
   ]
  },
  {
   "cell_type": "markdown",
   "id": "e3c2eabe",
   "metadata": {},
   "source": [
    "In DC2, the number of time bins should be 1 when you perform the image deconvolution using the galactic CDS.\n",
    "It is because the pre-computed response files in the galactic coordinate have no time axis, and all of the events are assumed to be projected into a single galactic CDS.\n",
    "In the future, we plan to introduce more flexible binning."
   ]
  },
  {
   "cell_type": "code",
   "execution_count": null,
   "id": "c649bb41",
   "metadata": {},
   "outputs": [],
   "source": [
    "bkg.axes['Time'].edges"
   ]
  },
  {
   "cell_type": "markdown",
   "id": "656bc30a",
   "metadata": {},
   "source": [
    "# 2. Load the response matrix"
   ]
  },
  {
   "cell_type": "code",
   "execution_count": null,
   "id": "37b20b73",
   "metadata": {},
   "outputs": [],
   "source": [
    "pr = cProfile.Profile()\n",
    "profile_string = \"response_matrix_not_scratched\""
   ]
  },
  {
   "cell_type": "code",
   "execution_count": null,
   "id": "ffb3710e",
   "metadata": {},
   "outputs": [],
   "source": [
    "%%time\n",
    "pr.enable()\n",
    "response_path = path_data + \"psr_gal_511_DC2.h5\"\n",
    "image_response = Histogram.open(response_path)\n",
    "pr.disable()"
   ]
  },
  {
   "cell_type": "code",
   "execution_count": null,
   "id": "b7830901",
   "metadata": {},
   "outputs": [],
   "source": [
    "s = StringIO()\n",
    "sortby = SortKey.CUMULATIVE\n",
    "ps = pstats.Stats(pr, stream=s).sort_stats(sortby)\n",
    "ps.print_stats()\n",
    "ps.strip_dirs()\n",
    "ps.print_callees()"
   ]
  },
  {
   "cell_type": "code",
   "execution_count": null,
   "id": "7fe2f652",
   "metadata": {},
   "outputs": [],
   "source": [
    "with open(\"/home/research/thomas.a/cosipy/tests/profiling/\" + profile_string + \"2.txt\", \"w\") as f:\n",
    "    print(s.getvalue())"
   ]
  },
  {
   "cell_type": "code",
   "execution_count": null,
   "id": "95c910a4",
   "metadata": {},
   "outputs": [],
   "source": [
    "image_response.axes.labels"
   ]
  },
  {
   "cell_type": "code",
   "execution_count": null,
   "id": "b9bfed92",
   "metadata": {},
   "outputs": [],
   "source": [
    "image_response.contents.shape"
   ]
  },
  {
   "cell_type": "markdown",
   "id": "2dd49ef7",
   "metadata": {},
   "source": [
    "# 3. Imaging deconvolution"
   ]
  },
  {
   "cell_type": "markdown",
   "id": "174e664c",
   "metadata": {
    "jp-MarkdownHeadingCollapsed": true
   },
   "source": [
    "## Brief overview of the image deconvolution\n",
    "\n",
    "Basically, we have to maximize the following likelihood function\n",
    "\n",
    "$$\n",
    "\\log L = \\sum_i X_i \\log \\epsilon_i - \\sum_i \\epsilon_i\n",
    "$$\n",
    "\n",
    "$X_i$: detected counts at $i$-th bin ( $i$ : index of the Compton Data Space)\n",
    "\n",
    "$\\epsilon_i = \\sum_j R_{ij} \\lambda_j + b_i$ : expected counts ( $j$ : index of the model space)\n",
    "\n",
    "$\\lambda_j$ : the model map (basically gamma-ray flux at $j$-th pixel)\n",
    "\n",
    "$b_i$ : the background at $i$-th bin\n",
    "\n",
    "$R_{ij}$ : the response matrix\n",
    "\n",
    "Since we have to optimize the flux in each pixel, and the number of parameters is large, we adopt an iterative approach to find a solution of the above equation. The simplest one is the ML-EM (Maximum Likelihood Expectation Maximization) algorithm. It is also known as the Richardson-Lucy algorithm.\n",
    "\n",
    "$$\n",
    "\\lambda_{j}^{k+1} = \\lambda_{j}^{k} + \\delta \\lambda_{j}^{k}\n",
    "$$\n",
    "$$\n",
    "\\delta \\lambda_{j}^{k} = \\frac{\\lambda_{j}^{k}}{\\sum_{i} R_{ij}} \\sum_{i} \\left(\\frac{ X_{i} }{\\epsilon_{i}} - 1 \\right) R_{ij} \n",
    "$$\n",
    "\n",
    "We refer to $\\delta \\lambda_{j}^{k}$ as the delta map.\n",
    "\n",
    "As for now, the two improved algorithms are implemented in COSIpy.\n",
    "\n",
    "- Accelerated ML-EM algorithm (Knoedlseder+99)\n",
    "\n",
    "$$\n",
    "\\lambda_{j}^{k+1} = \\lambda_{j}^{k} + \\alpha^{k} \\delta \\lambda_{j}^{k}\n",
    "$$\n",
    "$$\n",
    "\\alpha^{k} < \\mathrm{max}(- \\lambda_{j}^{k} / \\delta \\lambda_{j}^{k})\n",
    "$$\n",
    "\n",
    "Practically, in order not to accelerate the algorithm excessively, we set the maximum value of $\\alpha$ ($\\alpha_{\\mathrm{max}}$). Then, $\\alpha$ is calculated as:\n",
    "\n",
    "$$\n",
    "\\alpha^{k} = \\mathrm{min}(\\mathrm{max}(- \\lambda_{j}^{k} / \\delta \\lambda_{j}^{k}), \\alpha_{\\mathrm{max}})\n",
    "$$\n",
    "\n",
    "- Noise damping using gaussian smoothing (Knoedlseder+05, Siegert+20)\n",
    "\n",
    "$$\n",
    "\\lambda_{j}^{k+1} = \\lambda_{j}^{k} + \\alpha^{k} \\left[ w_j \\delta \\lambda_{j}^{k} \\right]_{\\mathrm{gauss}}\n",
    "$$\n",
    "$$\n",
    "w_j = \\left(\\sum_{i} R_{ij}\\right)^\\beta\n",
    "$$\n",
    "\n",
    "$\\left[ ... \\right]_{\\mathrm{gauss}}$ means that the differential image is smoothed by a gaussian filter."
   ]
  },
  {
   "cell_type": "markdown",
   "id": "bd2b5a8b",
   "metadata": {},
   "source": [
    "## 3-1. Prepare DataInterface containing all necessary datasets"
   ]
  },
  {
   "cell_type": "code",
   "execution_count": null,
   "id": "215c6a23",
   "metadata": {},
   "outputs": [],
   "source": [
    "%%time\n",
    "\n",
    "data_interface = DataIF_COSI_DC2.load(name = \"511keV\",\n",
    "                                      event_binned_data = event.project(['Em', 'Phi', 'PsiChi']),\n",
    "                                      dict_bkg_binned_data = {\"albedo\": bkg.project(['Em', 'Phi', 'PsiChi'])},\n",
    "                                      rsp = image_response,\n",
    "                                      coordsys_conv_matrix=None,\n",
    "                                      is_miniDC2_format=False)"
   ]
  },
  {
   "cell_type": "markdown",
   "id": "d2695d22",
   "metadata": {},
   "source": [
    "## 3-2. Initialize the instance of the image deconvolution class\n",
    "\n",
    "First, we prepare an instance of the ImageDeconvolution class and then register the dataset and parameters for the deconvolution. After that, you can start the calculation."
   ]
  },
  {
   "cell_type": "markdown",
   "id": "7f39a59d",
   "metadata": {},
   "source": [
    "<span style=\"color:red\"> please modify this parameter_filepath corresponding to your environment.</span>"
   ]
  },
  {
   "cell_type": "code",
   "execution_count": null,
   "id": "a89e6cb7",
   "metadata": {},
   "outputs": [],
   "source": [
    "parameter_filepath = \"imagedeconvolution_parfile_gal_511keV.yml\""
   ]
  },
  {
   "cell_type": "code",
   "execution_count": null,
   "id": "5d62d24a",
   "metadata": {},
   "outputs": [],
   "source": [
    "image_deconvolution = ImageDeconvolution()\n",
    "\n",
    "# set data_interface to image_deconvolution\n",
    "image_deconvolution.set_dataset([data_interface])\n",
    "\n",
    "# set a parameter file for the image deconvolution\n",
    "image_deconvolution.read_parameterfile(parameter_filepath)"
   ]
  },
  {
   "cell_type": "markdown",
   "id": "672a1563",
   "metadata": {},
   "source": [
    "### Initialize image_deconvolution\n",
    "\n",
    "In this process, a model map is defined following the input parameters, and it is initialized. Also, it prepares ancillary data for the image deconvolution, e.g., the expected counts with the initial model map, gaussian smoothing filter etc.\n",
    "\n",
    "I describe parameters in the parameter file.\n",
    "\n",
    "#### model_property\n",
    "\n",
    "| Name | Unit | Description | Notes |\n",
    "| :---: | :---: | :---: | :---: |\n",
    "| coordinate | str | the coordinate system of the model map | As for now, it must be 'galactic' |\n",
    "| nside | int | NSIDE of the model map | it must be the same as NSIDE of 'lb' axis of the coordinate conversion matrix|\n",
    "| scheme | str | SCHEME of the model map | As for now, it must be 'ring' |\n",
    "| energy_edges | list of float [keV] | The definition of the energy bins of the model map | As for now, it must be the same as that of the response matrix |\n",
    "\n",
    "#### model_initialization\n",
    "\n",
    "| Name | Unit | Description | Notes |\n",
    "| :---: | :---: | :---: | :---: |\n",
    "| algorithm | str | the method name to initialize the model map | As for now, only 'flat' can be used |\n",
    "| parameter_flat:values | list of float [cm-2 s-1 sr-1] | the list of photon fluxes for each energy band | the length of the list should be the same as the length of \"energy_edges\" - 1 |\n",
    "\n",
    "#### deconvolution\n",
    "\n",
    "| Name | Unit | Description | Notes |\n",
    "| :---: | :---: | :---: | :---: |\n",
    "|algorithm | str | the name of the image deconvolution algorithm| As for now, only 'RL' is supported |\n",
    "|||||\n",
    "|parameter_RL:iteration | int | The maximum number of the iteration | |\n",
    "|parameter_RL:acceleration | bool | whether the accelerated ML-EM algorithm (Knoedlseder+99) is used | |\n",
    "|parameter_RL:alpha_max | float | the maximum value for the acceleration parameter | |\n",
    "|parameter_RL:save_results_each_iteration | bool | whether an updated model map, detal map, likelihood etc. are saved at the end of each iteration | |\n",
    "|parameter_RL:response_weighting | bool | whether a delta map is renormalized based on the exposure time on each pixel, namely $w_j = (\\sum_{i} R_{ij})^{\\beta}$ (see Knoedlseder+05, Siegert+20) | |\n",
    "|parameter_RL:response_weighting_index | float | $\\beta$ in the above equation | |\n",
    "|parameter_RL:smoothing | bool | whether a Gaussian filter is used (see Knoedlseder+05, Siegert+20)  | |\n",
    "|parameter_RL:smoothing_FWHM | float, degree | the FWHM of the Gaussian in the filter | |\n",
    "|parameter_RL:background_normalization_fitting | bool | whether the background normalization factor is optimized at each iteration | As for now, the single background normalization factor is used in all of the bins |\n",
    "|parameter_RL:background_normalization_range | list of float | the range of the normalization factor | should be positive |"
   ]
  },
  {
   "cell_type": "code",
   "execution_count": null,
   "id": "7cee0fcd",
   "metadata": {},
   "outputs": [],
   "source": [
    "image_deconvolution.initialize()"
   ]
  },
  {
   "cell_type": "markdown",
   "id": "44d57607",
   "metadata": {},
   "source": [
    "### (You can change the parameters as follows)\n",
    "\n",
    "Note that when you modify the parameters, do not forget to run \"initialize\" again!"
   ]
  },
  {
   "cell_type": "code",
   "execution_count": null,
   "id": "9d59a2fc",
   "metadata": {},
   "outputs": [],
   "source": [
    "image_deconvolution.override_parameter(\"deconvolution:parameter:iteration_max = 50\")\n",
    "image_deconvolution.override_parameter(\"deconvolution:parameter:background_normalization_optimization = True\")\n",
    "image_deconvolution.override_parameter(\"deconvolution:parameter:alpha_max = 2.0\")\n",
    "image_deconvolution.override_parameter(\"deconvolution:parameter:smoothing = False\")\n",
    "image_deconvolution.override_parameter(\"deconvolution:parameter:response_weighting = False\")\n",
    "\n",
    "image_deconvolution.initialize()"
   ]
  },
  {
   "cell_type": "markdown",
   "id": "47824c6d",
   "metadata": {},
   "source": [
    "## 3-3. Start the image deconvolution\n",
    "\n",
    "**With MacBook Pro with M1 Max and 64 GB memory, it takes about 1.5 minutes for 50 iterations.**"
   ]
  },
  {
   "cell_type": "code",
   "execution_count": null,
   "id": "0554dfd7",
   "metadata": {},
   "outputs": [],
   "source": [
    "pr = cProfile.Profile()\n",
    "profile_string = \"deconv_with_image_reponse_contents_cache\""
   ]
  },
  {
   "cell_type": "code",
   "execution_count": null,
   "id": "2dbf5cdd",
   "metadata": {
    "jupyter": {
     "outputs_hidden": true
    },
    "scrolled": true
   },
   "outputs": [],
   "source": [
    "%%time\n",
    "pr.enable()\n",
    "image_deconvolution.run_deconvolution()\n",
    "pr.disable()"
   ]
  },
  {
   "cell_type": "code",
   "execution_count": null,
   "id": "4fa96aa3",
   "metadata": {},
   "outputs": [],
   "source": [
    "from io import StringIO\n",
    "s = StringIO()\n",
    "sortby = SortKey.CUMULATIVE\n",
    "ps = pstats.Stats(pr, stream=s).sort_stats(sortby)\n",
    "ps.print_stats()\n",
    "ps.strip_dirs()\n",
    "ps.print_callees()\n",
    "with open(\"/home/research/thomas.a/cosipy/tests/profiling/original.txt\", \"w\") as f:\n",
    "    print(s.getvalue())"
   ]
  },
  {
   "cell_type": "code",
   "execution_count": null,
   "id": "60fb87c2",
   "metadata": {
    "collapsed": true,
    "jupyter": {
     "outputs_hidden": true
    },
    "scrolled": true
   },
   "outputs": [],
   "source": [
    "image_deconvolution.results"
   ]
  },
  {
   "cell_type": "markdown",
   "id": "410e3bc1",
   "metadata": {},
   "source": [
    "# 4. Analyze the results\n",
    "Examples to see/analyze the results are shown below."
   ]
  },
  {
   "cell_type": "markdown",
   "id": "0f533634",
   "metadata": {},
   "source": [
    "## Log-likelihood\n",
    "\n",
    "Plotting the log-likelihood vs the number of iterations"
   ]
  },
  {
   "cell_type": "code",
   "execution_count": null,
   "id": "8c835a4b",
   "metadata": {},
   "outputs": [],
   "source": [
    "x, y = [], []\n",
    "\n",
    "for result in image_deconvolution.results:\n",
    "    x.append(result['iteration'])\n",
    "    y.append(result['loglikelihood'])\n",
    "    \n",
    "plt.plot(x, y)\n",
    "plt.grid()\n",
    "plt.xlabel(\"iteration\")\n",
    "plt.ylabel(\"loglikelihood\")\n",
    "plt.show()"
   ]
  },
  {
   "cell_type": "markdown",
   "id": "20be3935",
   "metadata": {},
   "source": [
    "## Alpha (the factor used for the acceleration)\n",
    "\n",
    "Plotting $\\alpha$ vs the number of iterations. $\\alpha$ is a parameter to accelerate the EM algorithm (see the beginning of Section 4). If it is too large, reconstructed images may have artifacts."
   ]
  },
  {
   "cell_type": "code",
   "execution_count": null,
   "id": "64e89d75",
   "metadata": {},
   "outputs": [],
   "source": [
    "x, y = [], []\n",
    "\n",
    "for result in image_deconvolution.results:\n",
    "    x.append(result['iteration'])\n",
    "    y.append(result['alpha'])\n",
    "    \n",
    "plt.plot(x, y)\n",
    "plt.grid()\n",
    "plt.xlabel(\"iteration\")\n",
    "plt.ylabel(\"alpha\")\n",
    "plt.show()"
   ]
  },
  {
   "cell_type": "markdown",
   "id": "1ae547ee",
   "metadata": {},
   "source": [
    "## Background normalization\n",
    "\n",
    "Plotting the background nomalization factor vs the number of iterations. If the backgroud model is accurate and the image is reconstructed perfectly, this factor should be close to 1."
   ]
  },
  {
   "cell_type": "code",
   "execution_count": null,
   "id": "9faa76ad",
   "metadata": {},
   "outputs": [],
   "source": [
    "x, y = [], []\n",
    "\n",
    "for result in image_deconvolution.results:\n",
    "    x.append(result['iteration'])\n",
    "    y.append(result['background_normalization']['albedo'])\n",
    "    \n",
    "plt.plot(x, y)\n",
    "plt.grid()\n",
    "plt.xlabel(\"iteration\")\n",
    "plt.ylabel(\"background_normalization\")\n",
    "plt.show()"
   ]
  },
  {
   "cell_type": "markdown",
   "id": "4f4a62e1",
   "metadata": {},
   "source": [
    "## The reconstructed images"
   ]
  },
  {
   "cell_type": "code",
   "execution_count": null,
   "id": "c8f886d3",
   "metadata": {
    "scrolled": true
   },
   "outputs": [],
   "source": [
    "def plot_reconstructed_image(result, source_position = None): # source_position should be (l,b) in degrees\n",
    "    iteration = result['iteration']\n",
    "    image = result['model']\n",
    "\n",
    "    for energy_index in range(image.axes['Ei'].nbins):\n",
    "        map_healpxmap = HealpixMap(data = image[:,energy_index], unit = image.unit)\n",
    "\n",
    "        _, ax = map_healpxmap.plot('mollview')        \n",
    "        \n",
    "        _.colorbar.set_label(str(image.unit))\n",
    "        \n",
    "        if source_position is not None:\n",
    "            ax.scatter(source_position[0]*u.deg, source_position[1]*u.deg, transform=ax.get_transform('world'), color = 'red')\n",
    "\n",
    "        plt.title(label = f\"iteration = {iteration}, energy_index = {energy_index} ({image.axes['Ei'].bounds[energy_index][0]}-{image.axes['Ei'].bounds[energy_index][1]})\")"
   ]
  },
  {
   "cell_type": "markdown",
   "id": "819489d1",
   "metadata": {},
   "source": [
    "Plotting the reconstructed images in all of the energy bands at the 50th iteration"
   ]
  },
  {
   "cell_type": "code",
   "execution_count": null,
   "id": "cf0759e9",
   "metadata": {},
   "outputs": [],
   "source": [
    "iteration = 49\n",
    "\n",
    "plot_reconstructed_image(image_deconvolution.results[iteration])"
   ]
  },
  {
   "cell_type": "markdown",
   "id": "ea2c0915",
   "metadata": {},
   "source": [
    "An example to plot the image in the log scale"
   ]
  },
  {
   "cell_type": "code",
   "execution_count": null,
   "id": "14900ddb",
   "metadata": {},
   "outputs": [],
   "source": [
    "iteration_idx = 49\n",
    "\n",
    "result = image_deconvolution.results[iteration_idx]\n",
    "\n",
    "iteration = result['iteration']\n",
    "image = result['model']\n",
    "\n",
    "data = image[:,0]\n",
    "data[data <= 0 * data.unit] = 1e-12 * data.unit\n",
    "\n",
    "hp.mollview(data, min = 1e-5, norm ='log', unit = str(data.unit), title = f'511 keV image at {iteration}th iteration', cmap = 'magma')\n",
    "\n",
    "plt.show()"
   ]
  },
  {
   "cell_type": "markdown",
   "id": "390d624a",
   "metadata": {},
   "source": [
    "**Note: when you use a smoothing filter, you may see arfacts like many rings around the galactic center as seen in the next image. This is likely caused by the calculation errors of hp.smoothing and the high contrast of the 511 keV image. It is expected that these artifacts will be mitigated by using finer pixel resolution.**\n",
    "\n",
    "For reference, the parameters used for the image below is:\n",
    "```\n",
    "algorithm: RL\n",
    "parameter:\n",
    "  acceleration: true\n",
    "  alpha_max: 2.0\n",
    "  background_normalization_optimization: true\n",
    "  background_normalization_range:\n",
    "    albedo:\n",
    "    - 0.01\n",
    "    - 10.0\n",
    "  iteration_max: 50\n",
    "  response_weighting: false\n",
    "  response_weighting_index: 0.5\n",
    "  save_results: false\n",
    "  save_results_directory: ./results\n",
    "  smoothing: true\n",
    "  smoothing_FWHM:\n",
    "    unit: deg\n",
    "    value: 2.0\n",
    "```"
   ]
  },
  {
   "cell_type": "code",
   "execution_count": null,
   "id": "409a915c",
   "metadata": {},
   "outputs": [],
   "source": [
    "iteration_idx = 49\n",
    "\n",
    "result = image_deconvolution.results[iteration_idx]\n",
    "\n",
    "iteration = result['iteration']\n",
    "image = result['model']\n",
    "\n",
    "data = image[:,0]\n",
    "data[data <= 0 * data.unit] = 1e-12 * data.unit\n",
    "\n",
    "hp.mollview(data, min = 1e-5, norm ='log', unit = str(data.unit), title = f'511 keV image at {iteration}th iteration', cmap = 'magma')\n",
    "\n",
    "plt.show()"
   ]
  }
 ],
 "metadata": {
  "kernelspec": {
   "display_name": "cosipy-env",
   "language": "python",
   "name": "cosipy-env"
  },
  "language_info": {
   "codemirror_mode": {
    "name": "ipython",
    "version": 3
   },
   "file_extension": ".py",
   "mimetype": "text/x-python",
   "name": "python",
   "nbconvert_exporter": "python",
   "pygments_lexer": "ipython3",
   "version": "3.10.14"
  }
 },
 "nbformat": 4,
 "nbformat_minor": 5
}
